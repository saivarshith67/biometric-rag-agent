{
 "cells": [
  {
   "cell_type": "code",
   "execution_count": 1,
   "id": "70568afe",
   "metadata": {},
   "outputs": [
    {
     "name": "stdout",
     "output_type": "stream",
     "text": [
      "Hello, World\n"
     ]
    }
   ],
   "source": [
    "print(\"Hello, World\")"
   ]
  },
  {
   "cell_type": "code",
   "execution_count": 6,
   "id": "4be3600e",
   "metadata": {},
   "outputs": [
    {
     "data": {
      "text/html": [
       "<div>\n",
       "<style scoped>\n",
       "    .dataframe tbody tr th:only-of-type {\n",
       "        vertical-align: middle;\n",
       "    }\n",
       "\n",
       "    .dataframe tbody tr th {\n",
       "        vertical-align: top;\n",
       "    }\n",
       "\n",
       "    .dataframe thead th {\n",
       "        text-align: right;\n",
       "    }\n",
       "</style>\n",
       "<table border=\"1\" class=\"dataframe\">\n",
       "  <thead>\n",
       "    <tr style=\"text-align: right;\">\n",
       "      <th></th>\n",
       "      <th>Unnamed: 0</th>\n",
       "      <th>context</th>\n",
       "      <th>question</th>\n",
       "      <th>answer</th>\n",
       "    </tr>\n",
       "  </thead>\n",
       "  <tbody>\n",
       "    <tr>\n",
       "      <th>0</th>\n",
       "      <td>0</td>\n",
       "      <td>Correct fingerprint enrollment is critical in ...</td>\n",
       "      <td>What is the procedure for fingerprint enrollment?</td>\n",
       "      <td>To enroll a fingerprint on the BioStation 2, s...</td>\n",
       "    </tr>\n",
       "    <tr>\n",
       "      <th>1</th>\n",
       "      <td>1</td>\n",
       "      <td>Correct face enrollment and authentication met...</td>\n",
       "      <td>How should a face be enrolled on the FaceStati...</td>\n",
       "      <td>To enroll a face on the FaceStation F2, stand ...</td>\n",
       "    </tr>\n",
       "    <tr>\n",
       "      <th>2</th>\n",
       "      <td>2</td>\n",
       "      <td>Suprema’s Live Finger Detection (LFD) technolo...</td>\n",
       "      <td>What is Suprema's Live Finger Detection (LFD) ...</td>\n",
       "      <td>Suprema's Live Finger Detection (LFD) technolo...</td>\n",
       "    </tr>\n",
       "    <tr>\n",
       "      <th>3</th>\n",
       "      <td>3</td>\n",
       "      <td>BioStar 2 API is what people call web services...</td>\n",
       "      <td>What is the BioStar 2 API and what does it offer?</td>\n",
       "      <td>The BioStar 2 API is an open, RESTful web API ...</td>\n",
       "    </tr>\n",
       "    <tr>\n",
       "      <th>4</th>\n",
       "      <td>4</td>\n",
       "      <td>The time and Attendance (T&amp;A) System is a proc...</td>\n",
       "      <td>What is the purpose of the BioStar 2 Time and ...</td>\n",
       "      <td>BioStar 2's Time and Attendance (T&amp;A) system i...</td>\n",
       "    </tr>\n",
       "  </tbody>\n",
       "</table>\n",
       "</div>"
      ],
      "text/plain": [
       "   Unnamed: 0                                            context  \\\n",
       "0           0  Correct fingerprint enrollment is critical in ...   \n",
       "1           1  Correct face enrollment and authentication met...   \n",
       "2           2  Suprema’s Live Finger Detection (LFD) technolo...   \n",
       "3           3  BioStar 2 API is what people call web services...   \n",
       "4           4  The time and Attendance (T&A) System is a proc...   \n",
       "\n",
       "                                            question  \\\n",
       "0  What is the procedure for fingerprint enrollment?   \n",
       "1  How should a face be enrolled on the FaceStati...   \n",
       "2  What is Suprema's Live Finger Detection (LFD) ...   \n",
       "3  What is the BioStar 2 API and what does it offer?   \n",
       "4  What is the purpose of the BioStar 2 Time and ...   \n",
       "\n",
       "                                              answer  \n",
       "0  To enroll a fingerprint on the BioStation 2, s...  \n",
       "1  To enroll a face on the FaceStation F2, stand ...  \n",
       "2  Suprema's Live Finger Detection (LFD) technolo...  \n",
       "3  The BioStar 2 API is an open, RESTful web API ...  \n",
       "4  BioStar 2's Time and Attendance (T&A) system i...  "
      ]
     },
     "execution_count": 6,
     "metadata": {},
     "output_type": "execute_result"
    }
   ],
   "source": [
    "import pandas as pd\n",
    "\n",
    "df = pd.read_csv(\"qa_critique.csv\")\n",
    "df.head()"
   ]
  },
  {
   "cell_type": "code",
   "execution_count": 7,
   "id": "52a6169c",
   "metadata": {},
   "outputs": [
    {
     "data": {
      "text/plain": [
       "Index(['Unnamed: 0', 'context', 'question', 'answer'], dtype='object')"
      ]
     },
     "execution_count": 7,
     "metadata": {},
     "output_type": "execute_result"
    }
   ],
   "source": [
    "df.columns"
   ]
  },
  {
   "cell_type": "code",
   "execution_count": null,
   "id": "cbc6ac77",
   "metadata": {},
   "outputs": [],
   "source": []
  }
 ],
 "metadata": {
  "kernelspec": {
   "display_name": ".venv",
   "language": "python",
   "name": "python3"
  },
  "language_info": {
   "codemirror_mode": {
    "name": "ipython",
    "version": 3
   },
   "file_extension": ".py",
   "mimetype": "text/x-python",
   "name": "python",
   "nbconvert_exporter": "python",
   "pygments_lexer": "ipython3",
   "version": "3.11.11"
  }
 },
 "nbformat": 4,
 "nbformat_minor": 5
}
